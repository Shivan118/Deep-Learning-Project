{
  "nbformat": 4,
  "nbformat_minor": 0,
  "metadata": {
    "colab": {
      "name": "Develop a single Neuron Model to Convert C to F.ipynb",
      "provenance": []
    },
    "kernelspec": {
      "name": "python3",
      "display_name": "Python 3"
    }
  },
  "cells": [
    {
      "cell_type": "code",
      "metadata": {
        "id": "i4trAUcizDV4",
        "colab_type": "code",
        "colab": {
          "resources": {
            "http://localhost:8080/nbextensions/google.colab/files.js": {
              "data": "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",
              "ok": true,
              "headers": [
                [
                  "content-type",
                  "application/javascript"
                ]
              ],
              "status": 200,
              "status_text": ""
            }
          },
          "base_uri": "https://localhost:8080/",
          "height": 74
        },
        "outputId": "a59e9c67-4a81-4b54-b9aa-1cc522a7d0d3"
      },
      "source": [
        "from google.colab import files\n",
        "uploaded = files.upload()"
      ],
      "execution_count": 4,
      "outputs": [
        {
          "output_type": "display_data",
          "data": {
            "text/html": [
              "\n",
              "     <input type=\"file\" id=\"files-3dc8e29f-ef33-432f-84bf-5674f3fa46b1\" name=\"files[]\" multiple disabled />\n",
              "     <output id=\"result-3dc8e29f-ef33-432f-84bf-5674f3fa46b1\">\n",
              "      Upload widget is only available when the cell has been executed in the\n",
              "      current browser session. Please rerun this cell to enable.\n",
              "      </output>\n",
              "      <script src=\"/nbextensions/google.colab/files.js\"></script> "
            ],
            "text/plain": [
              "<IPython.core.display.HTML object>"
            ]
          },
          "metadata": {
            "tags": []
          }
        },
        {
          "output_type": "stream",
          "text": [
            "Saving original.csv to original (1).csv\n"
          ],
          "name": "stdout"
        }
      ]
    },
    {
      "cell_type": "markdown",
      "metadata": {
        "id": "meQwBeBy8yT_",
        "colab_type": "text"
      },
      "source": [
        "**Importing the Library**"
      ]
    },
    {
      "cell_type": "code",
      "metadata": {
        "id": "voxce6_IzJJ7",
        "colab_type": "code",
        "colab": {}
      },
      "source": [
        "import pandas as pd\n",
        "import numpy as np\n",
        "import matplotlib.pyplot as plt\n",
        "import seaborn as sns\n",
        "import tensorflow as tf"
      ],
      "execution_count": 0,
      "outputs": []
    },
    {
      "cell_type": "code",
      "metadata": {
        "id": "H2NstNkezQSM",
        "colab_type": "code",
        "colab": {}
      },
      "source": [
        "import io\n",
        "data = pd.read_csv(io.BytesIO(uploaded['original.csv']))"
      ],
      "execution_count": 0,
      "outputs": []
    },
    {
      "cell_type": "code",
      "metadata": {
        "id": "R6jgyVuxzpTX",
        "colab_type": "code",
        "colab": {
          "base_uri": "https://localhost:8080/",
          "height": 359
        },
        "outputId": "7440d8c2-9b0e-4730-cf02-73b316f2f2ac"
      },
      "source": [
        "data.head(10)"
      ],
      "execution_count": 7,
      "outputs": [
        {
          "output_type": "execute_result",
          "data": {
            "text/html": [
              "<div>\n",
              "<style scoped>\n",
              "    .dataframe tbody tr th:only-of-type {\n",
              "        vertical-align: middle;\n",
              "    }\n",
              "\n",
              "    .dataframe tbody tr th {\n",
              "        vertical-align: top;\n",
              "    }\n",
              "\n",
              "    .dataframe thead th {\n",
              "        text-align: right;\n",
              "    }\n",
              "</style>\n",
              "<table border=\"1\" class=\"dataframe\">\n",
              "  <thead>\n",
              "    <tr style=\"text-align: right;\">\n",
              "      <th></th>\n",
              "      <th>Celsius</th>\n",
              "      <th>Fahrenheit</th>\n",
              "    </tr>\n",
              "  </thead>\n",
              "  <tbody>\n",
              "    <tr>\n",
              "      <th>0</th>\n",
              "      <td>-50</td>\n",
              "      <td>-58.0</td>\n",
              "    </tr>\n",
              "    <tr>\n",
              "      <th>1</th>\n",
              "      <td>-40</td>\n",
              "      <td>-40.0</td>\n",
              "    </tr>\n",
              "    <tr>\n",
              "      <th>2</th>\n",
              "      <td>-30</td>\n",
              "      <td>-22.0</td>\n",
              "    </tr>\n",
              "    <tr>\n",
              "      <th>3</th>\n",
              "      <td>-20</td>\n",
              "      <td>-4.0</td>\n",
              "    </tr>\n",
              "    <tr>\n",
              "      <th>4</th>\n",
              "      <td>-10</td>\n",
              "      <td>14.0</td>\n",
              "    </tr>\n",
              "    <tr>\n",
              "      <th>5</th>\n",
              "      <td>-9</td>\n",
              "      <td>15.8</td>\n",
              "    </tr>\n",
              "    <tr>\n",
              "      <th>6</th>\n",
              "      <td>-8</td>\n",
              "      <td>17.6</td>\n",
              "    </tr>\n",
              "    <tr>\n",
              "      <th>7</th>\n",
              "      <td>-7</td>\n",
              "      <td>19.4</td>\n",
              "    </tr>\n",
              "    <tr>\n",
              "      <th>8</th>\n",
              "      <td>-6</td>\n",
              "      <td>21.2</td>\n",
              "    </tr>\n",
              "    <tr>\n",
              "      <th>9</th>\n",
              "      <td>-5</td>\n",
              "      <td>23.0</td>\n",
              "    </tr>\n",
              "  </tbody>\n",
              "</table>\n",
              "</div>"
            ],
            "text/plain": [
              "   Celsius  Fahrenheit\n",
              "0      -50       -58.0\n",
              "1      -40       -40.0\n",
              "2      -30       -22.0\n",
              "3      -20        -4.0\n",
              "4      -10        14.0\n",
              "5       -9        15.8\n",
              "6       -8        17.6\n",
              "7       -7        19.4\n",
              "8       -6        21.2\n",
              "9       -5        23.0"
            ]
          },
          "metadata": {
            "tags": []
          },
          "execution_count": 7
        }
      ]
    },
    {
      "cell_type": "code",
      "metadata": {
        "id": "znakXZS_0FY_",
        "colab_type": "code",
        "colab": {
          "base_uri": "https://localhost:8080/",
          "height": 204
        },
        "outputId": "f5b7d01a-35a2-4ebb-ada9-8026da0db818"
      },
      "source": [
        "data.tail()"
      ],
      "execution_count": 8,
      "outputs": [
        {
          "output_type": "execute_result",
          "data": {
            "text/html": [
              "<div>\n",
              "<style scoped>\n",
              "    .dataframe tbody tr th:only-of-type {\n",
              "        vertical-align: middle;\n",
              "    }\n",
              "\n",
              "    .dataframe tbody tr th {\n",
              "        vertical-align: top;\n",
              "    }\n",
              "\n",
              "    .dataframe thead th {\n",
              "        text-align: right;\n",
              "    }\n",
              "</style>\n",
              "<table border=\"1\" class=\"dataframe\">\n",
              "  <thead>\n",
              "    <tr style=\"text-align: right;\">\n",
              "      <th></th>\n",
              "      <th>Celsius</th>\n",
              "      <th>Fahrenheit</th>\n",
              "    </tr>\n",
              "  </thead>\n",
              "  <tbody>\n",
              "    <tr>\n",
              "      <th>25</th>\n",
              "      <td>20</td>\n",
              "      <td>68.0</td>\n",
              "    </tr>\n",
              "    <tr>\n",
              "      <th>26</th>\n",
              "      <td>30</td>\n",
              "      <td>86.0</td>\n",
              "    </tr>\n",
              "    <tr>\n",
              "      <th>27</th>\n",
              "      <td>40</td>\n",
              "      <td>104.0</td>\n",
              "    </tr>\n",
              "    <tr>\n",
              "      <th>28</th>\n",
              "      <td>50</td>\n",
              "      <td>122.0</td>\n",
              "    </tr>\n",
              "    <tr>\n",
              "      <th>29</th>\n",
              "      <td>60</td>\n",
              "      <td>140.0</td>\n",
              "    </tr>\n",
              "  </tbody>\n",
              "</table>\n",
              "</div>"
            ],
            "text/plain": [
              "    Celsius  Fahrenheit\n",
              "25       20        68.0\n",
              "26       30        86.0\n",
              "27       40       104.0\n",
              "28       50       122.0\n",
              "29       60       140.0"
            ]
          },
          "metadata": {
            "tags": []
          },
          "execution_count": 8
        }
      ]
    },
    {
      "cell_type": "code",
      "metadata": {
        "id": "xE2z4ss-315X",
        "colab_type": "code",
        "colab": {
          "base_uri": "https://localhost:8080/",
          "height": 34
        },
        "outputId": "45b2ee9b-6c0c-4cdf-f6f1-d0dfbd954216"
      },
      "source": [
        "data.shape"
      ],
      "execution_count": 9,
      "outputs": [
        {
          "output_type": "execute_result",
          "data": {
            "text/plain": [
              "(30, 2)"
            ]
          },
          "metadata": {
            "tags": []
          },
          "execution_count": 9
        }
      ]
    },
    {
      "cell_type": "code",
      "metadata": {
        "id": "eIW2TEMG35n4",
        "colab_type": "code",
        "colab": {
          "base_uri": "https://localhost:8080/",
          "height": 297
        },
        "outputId": "8cc4b90f-a383-4505-bad7-0c7e89b4b3bd"
      },
      "source": [
        "data.describe()"
      ],
      "execution_count": 10,
      "outputs": [
        {
          "output_type": "execute_result",
          "data": {
            "text/html": [
              "<div>\n",
              "<style scoped>\n",
              "    .dataframe tbody tr th:only-of-type {\n",
              "        vertical-align: middle;\n",
              "    }\n",
              "\n",
              "    .dataframe tbody tr th {\n",
              "        vertical-align: top;\n",
              "    }\n",
              "\n",
              "    .dataframe thead th {\n",
              "        text-align: right;\n",
              "    }\n",
              "</style>\n",
              "<table border=\"1\" class=\"dataframe\">\n",
              "  <thead>\n",
              "    <tr style=\"text-align: right;\">\n",
              "      <th></th>\n",
              "      <th>Celsius</th>\n",
              "      <th>Fahrenheit</th>\n",
              "    </tr>\n",
              "  </thead>\n",
              "  <tbody>\n",
              "    <tr>\n",
              "      <th>count</th>\n",
              "      <td>30.000000</td>\n",
              "      <td>30.000000</td>\n",
              "    </tr>\n",
              "    <tr>\n",
              "      <th>mean</th>\n",
              "      <td>2.000000</td>\n",
              "      <td>35.600000</td>\n",
              "    </tr>\n",
              "    <tr>\n",
              "      <th>std</th>\n",
              "      <td>22.780815</td>\n",
              "      <td>41.005466</td>\n",
              "    </tr>\n",
              "    <tr>\n",
              "      <th>min</th>\n",
              "      <td>-50.000000</td>\n",
              "      <td>-58.000000</td>\n",
              "    </tr>\n",
              "    <tr>\n",
              "      <th>25%</th>\n",
              "      <td>-6.750000</td>\n",
              "      <td>19.850000</td>\n",
              "    </tr>\n",
              "    <tr>\n",
              "      <th>50%</th>\n",
              "      <td>0.500000</td>\n",
              "      <td>32.900000</td>\n",
              "    </tr>\n",
              "    <tr>\n",
              "      <th>75%</th>\n",
              "      <td>7.750000</td>\n",
              "      <td>45.950000</td>\n",
              "    </tr>\n",
              "    <tr>\n",
              "      <th>max</th>\n",
              "      <td>60.000000</td>\n",
              "      <td>140.000000</td>\n",
              "    </tr>\n",
              "  </tbody>\n",
              "</table>\n",
              "</div>"
            ],
            "text/plain": [
              "         Celsius  Fahrenheit\n",
              "count  30.000000   30.000000\n",
              "mean    2.000000   35.600000\n",
              "std    22.780815   41.005466\n",
              "min   -50.000000  -58.000000\n",
              "25%    -6.750000   19.850000\n",
              "50%     0.500000   32.900000\n",
              "75%     7.750000   45.950000\n",
              "max    60.000000  140.000000"
            ]
          },
          "metadata": {
            "tags": []
          },
          "execution_count": 10
        }
      ]
    },
    {
      "cell_type": "code",
      "metadata": {
        "id": "FARquw7j4MXb",
        "colab_type": "code",
        "colab": {
          "base_uri": "https://localhost:8080/",
          "height": 136
        },
        "outputId": "1ce22f3c-3171-4a86-98dc-9c41ff25abf3"
      },
      "source": [
        "data.info()"
      ],
      "execution_count": 11,
      "outputs": [
        {
          "output_type": "stream",
          "text": [
            "<class 'pandas.core.frame.DataFrame'>\n",
            "RangeIndex: 30 entries, 0 to 29\n",
            "Data columns (total 2 columns):\n",
            "Celsius       30 non-null int64\n",
            "Fahrenheit    30 non-null float64\n",
            "dtypes: float64(1), int64(1)\n",
            "memory usage: 608.0 bytes\n"
          ],
          "name": "stdout"
        }
      ]
    },
    {
      "cell_type": "markdown",
      "metadata": {
        "id": "Bu4kkLKY4YKy",
        "colab_type": "text"
      },
      "source": [
        "**Visualization Dataset**"
      ]
    },
    {
      "cell_type": "code",
      "metadata": {
        "id": "fajjkj1a4T3M",
        "colab_type": "code",
        "colab": {
          "base_uri": "https://localhost:8080/",
          "height": 296
        },
        "outputId": "681f1688-9751-4363-8fa1-c5109ab92b52"
      },
      "source": [
        "sns.scatterplot(data['Celsius'], data['Fahrenheit'])"
      ],
      "execution_count": 13,
      "outputs": [
        {
          "output_type": "execute_result",
          "data": {
            "text/plain": [
              "<matplotlib.axes._subplots.AxesSubplot at 0x7fa4027f48d0>"
            ]
          },
          "metadata": {
            "tags": []
          },
          "execution_count": 13
        },
        {
          "output_type": "display_data",
          "data": {
            "image/png": "[encoded data removed]",
            "text/plain": [
              "<Figure size 432x288 with 1 Axes>"
            ]
          },
          "metadata": {
            "tags": []
          }
        }
      ]
    },
    {
      "cell_type": "markdown",
      "metadata": {
        "id": "puW-dscR5Tv5",
        "colab_type": "text"
      },
      "source": [
        "**Create Training and testing Dataset**"
      ]
    },
    {
      "cell_type": "code",
      "metadata": {
        "id": "ca8KMGnM49tq",
        "colab_type": "code",
        "colab": {}
      },
      "source": [
        "x_train = data['Celsius']\n",
        "y_train = data['Fahrenheit']"
      ],
      "execution_count": 0,
      "outputs": []
    },
    {
      "cell_type": "markdown",
      "metadata": {
        "id": "etMDjLaR50pe",
        "colab_type": "text"
      },
      "source": [
        "**Build and train our model**"
      ]
    },
    {
      "cell_type": "code",
      "metadata": {
        "id": "6PO6qUp65zzc",
        "colab_type": "code",
        "colab": {
          "base_uri": "https://localhost:8080/",
          "height": 34
        },
        "outputId": "338c7216-4a32-4b37-c58a-c7786f587ab1"
      },
      "source": [
        "x_train.shape"
      ],
      "execution_count": 15,
      "outputs": [
        {
          "output_type": "execute_result",
          "data": {
            "text/plain": [
              "(30,)"
            ]
          },
          "metadata": {
            "tags": []
          },
          "execution_count": 15
        }
      ]
    },
    {
      "cell_type": "code",
      "metadata": {
        "id": "11CLLA6858fo",
        "colab_type": "code",
        "colab": {
          "base_uri": "https://localhost:8080/",
          "height": 34
        },
        "outputId": "f905c943-9cd3-4456-aaf2-a3af72cafdbb"
      },
      "source": [
        "y_train.shape"
      ],
      "execution_count": 17,
      "outputs": [
        {
          "output_type": "execute_result",
          "data": {
            "text/plain": [
              "(30,)"
            ]
          },
          "metadata": {
            "tags": []
          },
          "execution_count": 17
        }
      ]
    },
    {
      "cell_type": "code",
      "metadata": {
        "id": "N2VqMhwV59_C",
        "colab_type": "code",
        "colab": {
          "base_uri": "https://localhost:8080/",
          "height": 88
        },
        "outputId": "a8859c58-5f16-4352-8f68-8a892ed5e8d8"
      },
      "source": [
        "model = tf.keras.Sequential()\n",
        "model.add(tf.keras.layers.Dense(units=1, input_shape = [1]))"
      ],
      "execution_count": 18,
      "outputs": [
        {
          "output_type": "stream",
          "text": [
            "WARNING:tensorflow:From /usr/local/lib/python3.6/dist-packages/tensorflow_core/python/ops/resource_variable_ops.py:1630: calling BaseResourceVariable.__init__ (from tensorflow.python.ops.resource_variable_ops) with constraint is deprecated and will be removed in a future version.\n",
            "Instructions for updating:\n",
            "If using Keras pass *_constraint arguments to layers.\n"
          ],
          "name": "stdout"
        }
      ]
    },
    {
      "cell_type": "code",
      "metadata": {
        "id": "KItscTiS7GaO",
        "colab_type": "code",
        "colab": {
          "base_uri": "https://localhost:8080/",
          "height": 187
        },
        "outputId": "70f744d2-c40f-43b0-9d08-654adddc472b"
      },
      "source": [
        "model.summary()"
      ],
      "execution_count": 20,
      "outputs": [
        {
          "output_type": "stream",
          "text": [
            "Model: \"sequential\"\n",
            "_________________________________________________________________\n",
            "Layer (type)                 Output Shape              Param #   \n",
            "=================================================================\n",
            "dense (Dense)                (None, 1)                 2         \n",
            "=================================================================\n",
            "Total params: 2\n",
            "Trainable params: 2\n",
            "Non-trainable params: 0\n",
            "_________________________________________________________________\n"
          ],
          "name": "stdout"
        }
      ]
    },
    {
      "cell_type": "code",
      "metadata": {
        "id": "K5gPm4BJ7K4T",
        "colab_type": "code",
        "colab": {}
      },
      "source": [
        "model.compile(optimizer=tf.keras.optimizers.Adam(0.5), loss = 'mean_squared_error')"
      ],
      "execution_count": 0,
      "outputs": []
    },
    {
      "cell_type": "code",
      "metadata": {
        "id": "WZ8Gu4P57TZy",
        "colab_type": "code",
        "colab": {
          "base_uri": "https://localhost:8080/",
          "height": 1000
        },
        "outputId": "49fbf053-a905-4669-d434-08753338ab2f"
      },
      "source": [
        "epoc_hist = model.fit(x_train, y_train, epochs=500)"
      ],
      "execution_count": 32,
      "outputs": [
        {
          "output_type": "stream",
          "text": [
            "Train on 30 samples\n",
            "Epoch 1/500\n",
            "30/30 [==============================] - 0s 160us/sample - loss: 0.0013\n",
            "Epoch 2/500\n",
            "30/30 [==============================] - 0s 79us/sample - loss: 0.0012\n",
            "Epoch 3/500\n",
            "30/30 [==============================] - 0s 48us/sample - loss: 0.0012\n",
            "Epoch 4/500\n",
            "30/30 [==============================] - 0s 47us/sample - loss: 0.0011\n",
            "Epoch 5/500\n",
            "30/30 [==============================] - 0s 69us/sample - loss: 0.0011\n",
            "Epoch 6/500\n",
            "30/30 [==============================] - 0s 45us/sample - loss: 0.0011\n",
            "Epoch 7/500\n",
            "30/30 [==============================] - 0s 52us/sample - loss: 9.9355e-04\n",
            "Epoch 8/500\n",
            "30/30 [==============================] - 0s 50us/sample - loss: 9.1698e-04\n",
            "Epoch 9/500\n",
            "30/30 [==============================] - 0s 49us/sample - loss: 8.4132e-04\n",
            "Epoch 10/500\n",
            "30/30 [==============================] - 0s 53us/sample - loss: 7.7621e-04\n",
            "Epoch 11/500\n",
            "30/30 [==============================] - 0s 48us/sample - loss: 7.2370e-04\n",
            "Epoch 12/500\n",
            "30/30 [==============================] - 0s 51us/sample - loss: 6.7862e-04\n",
            "Epoch 13/500\n",
            "30/30 [==============================] - 0s 48us/sample - loss: 6.3309e-04\n",
            "Epoch 14/500\n",
            "30/30 [==============================] - 0s 46us/sample - loss: 5.8233e-04\n",
            "Epoch 15/500\n",
            "30/30 [==============================] - 0s 49us/sample - loss: 5.2662e-04\n",
            "Epoch 16/500\n",
            "30/30 [==============================] - 0s 49us/sample - loss: 4.7112e-04\n",
            "Epoch 17/500\n",
            "30/30 [==============================] - 0s 46us/sample - loss: 4.2109e-04\n",
            "Epoch 18/500\n",
            "30/30 [==============================] - 0s 49us/sample - loss: 3.7928e-04\n",
            "Epoch 19/500\n",
            "30/30 [==============================] - 0s 48us/sample - loss: 3.4453e-04\n",
            "Epoch 20/500\n",
            "30/30 [==============================] - 0s 52us/sample - loss: 3.1321e-04\n",
            "Epoch 21/500\n",
            "30/30 [==============================] - 0s 56us/sample - loss: 2.8192e-04\n",
            "Epoch 22/500\n",
            "30/30 [==============================] - 0s 48us/sample - loss: 2.4961e-04\n",
            "Epoch 23/500\n",
            "30/30 [==============================] - 0s 64us/sample - loss: 2.1748e-04\n",
            "Epoch 24/500\n",
            "30/30 [==============================] - 0s 49us/sample - loss: 1.8818e-04\n",
            "Epoch 25/500\n",
            "30/30 [==============================] - 0s 44us/sample - loss: 1.6366e-04\n",
            "Epoch 26/500\n",
            "30/30 [==============================] - 0s 45us/sample - loss: 1.4383e-04\n",
            "Epoch 27/500\n",
            "30/30 [==============================] - 0s 44us/sample - loss: 1.2720e-04\n",
            "Epoch 28/500\n",
            "30/30 [==============================] - 0s 43us/sample - loss: 1.1173e-04\n",
            "Epoch 29/500\n",
            "30/30 [==============================] - 0s 48us/sample - loss: 9.6347e-05\n",
            "Epoch 30/500\n",
            "30/30 [==============================] - 0s 52us/sample - loss: 8.1250e-05\n",
            "Epoch 31/500\n",
            "30/30 [==============================] - 0s 51us/sample - loss: 6.7466e-05\n",
            "Epoch 32/500\n",
            "30/30 [==============================] - 0s 48us/sample - loss: 5.6011e-05\n",
            "Epoch 33/500\n",
            "30/30 [==============================] - 0s 44us/sample - loss: 4.7143e-05\n",
            "Epoch 34/500\n",
            "30/30 [==============================] - 0s 44us/sample - loss: 4.0217e-05\n",
            "Epoch 35/500\n",
            "30/30 [==============================] - 0s 59us/sample - loss: 3.4286e-05\n",
            "Epoch 36/500\n",
            "30/30 [==============================] - 0s 43us/sample - loss: 2.8554e-05\n",
            "Epoch 37/500\n",
            "30/30 [==============================] - 0s 46us/sample - loss: 2.2889e-05\n",
            "Epoch 38/500\n",
            "30/30 [==============================] - 0s 45us/sample - loss: 1.7694e-05\n",
            "Epoch 39/500\n",
            "30/30 [==============================] - 0s 58us/sample - loss: 1.3506e-05\n",
            "Epoch 40/500\n",
            "30/30 [==============================] - 0s 43us/sample - loss: 1.0519e-05\n",
            "Epoch 41/500\n",
            "30/30 [==============================] - 0s 46us/sample - loss: 8.5084e-06\n",
            "Epoch 42/500\n",
            "30/30 [==============================] - 0s 44us/sample - loss: 6.9874e-06\n",
            "Epoch 43/500\n",
            "30/30 [==============================] - 0s 50us/sample - loss: 5.5203e-06\n",
            "Epoch 44/500\n",
            "30/30 [==============================] - 0s 44us/sample - loss: 4.0030e-06\n",
            "Epoch 45/500\n",
            "30/30 [==============================] - 0s 44us/sample - loss: 2.5664e-06\n",
            "Epoch 46/500\n",
            "30/30 [==============================] - 0s 45us/sample - loss: 1.4818e-06\n",
            "Epoch 47/500\n",
            "30/30 [==============================] - 0s 45us/sample - loss: 8.8273e-07\n",
            "Epoch 48/500\n",
            "30/30 [==============================] - 0s 44us/sample - loss: 6.8306e-07\n",
            "Epoch 49/500\n",
            "30/30 [==============================] - 0s 48us/sample - loss: 6.6322e-07\n",
            "Epoch 50/500\n",
            "30/30 [==============================] - 0s 45us/sample - loss: 6.1053e-07\n",
            "Epoch 51/500\n",
            "30/30 [==============================] - 0s 46us/sample - loss: 4.3970e-07\n",
            "Epoch 52/500\n",
            "30/30 [==============================] - 0s 52us/sample - loss: 2.2590e-07\n",
            "Epoch 53/500\n",
            "30/30 [==============================] - 0s 47us/sample - loss: 9.1060e-08\n",
            "Epoch 54/500\n",
            "30/30 [==============================] - 0s 45us/sample - loss: 1.2633e-07\n",
            "Epoch 55/500\n",
            "30/30 [==============================] - 0s 46us/sample - loss: 3.0742e-07\n",
            "Epoch 56/500\n",
            "30/30 [==============================] - 0s 55us/sample - loss: 5.2905e-07\n",
            "Epoch 57/500\n",
            "30/30 [==============================] - 0s 55us/sample - loss: 6.9478e-07\n",
            "Epoch 58/500\n",
            "30/30 [==============================] - 0s 47us/sample - loss: 7.6186e-07\n",
            "Epoch 59/500\n",
            "30/30 [==============================] - 0s 47us/sample - loss: 7.6510e-07\n",
            "Epoch 60/500\n",
            "30/30 [==============================] - 0s 58us/sample - loss: 7.7369e-07\n",
            "Epoch 61/500\n",
            "30/30 [==============================] - 0s 47us/sample - loss: 8.3547e-07\n",
            "Epoch 62/500\n",
            "30/30 [==============================] - 0s 44us/sample - loss: 9.4673e-07\n",
            "Epoch 63/500\n",
            "30/30 [==============================] - 0s 44us/sample - loss: 1.0610e-06\n",
            "Epoch 64/500\n",
            "30/30 [==============================] - 0s 45us/sample - loss: 1.1295e-06\n",
            "Epoch 65/500\n",
            "30/30 [==============================] - 0s 55us/sample - loss: 1.1383e-06\n",
            "Epoch 66/500\n",
            "30/30 [==============================] - 0s 44us/sample - loss: 1.1067e-06\n",
            "Epoch 67/500\n",
            "30/30 [==============================] - 0s 45us/sample - loss: 1.0703e-06\n",
            "Epoch 68/500\n",
            "30/30 [==============================] - 0s 63us/sample - loss: 1.0533e-06\n",
            "Epoch 69/500\n",
            "30/30 [==============================] - 0s 48us/sample - loss: 1.0593e-06\n",
            "Epoch 70/500\n",
            "30/30 [==============================] - 0s 49us/sample - loss: 1.0596e-06\n",
            "Epoch 71/500\n",
            "30/30 [==============================] - 0s 46us/sample - loss: 1.0392e-06\n",
            "Epoch 72/500\n",
            "30/30 [==============================] - 0s 44us/sample - loss: 9.9225e-07\n",
            "Epoch 73/500\n",
            "30/30 [==============================] - 0s 46us/sample - loss: 9.2257e-07\n",
            "Epoch 74/500\n",
            "30/30 [==============================] - 0s 45us/sample - loss: 8.5628e-07\n",
            "Epoch 75/500\n",
            "30/30 [==============================] - 0s 48us/sample - loss: 8.0523e-07\n",
            "Epoch 76/500\n",
            "30/30 [==============================] - 0s 45us/sample - loss: 7.6594e-07\n",
            "Epoch 77/500\n",
            "30/30 [==============================] - 0s 45us/sample - loss: 7.2548e-07\n",
            "Epoch 78/500\n",
            "30/30 [==============================] - 0s 41us/sample - loss: 6.7829e-07\n",
            "Epoch 79/500\n",
            "30/30 [==============================] - 0s 45us/sample - loss: 6.1901e-07\n",
            "Epoch 80/500\n",
            "30/30 [==============================] - 0s 49us/sample - loss: 5.5491e-07\n",
            "Epoch 81/500\n",
            "30/30 [==============================] - 0s 45us/sample - loss: 4.9802e-07\n",
            "Epoch 82/500\n",
            "30/30 [==============================] - 0s 50us/sample - loss: 4.5108e-07\n",
            "Epoch 83/500\n",
            "30/30 [==============================] - 0s 46us/sample - loss: 4.1342e-07\n",
            "Epoch 84/500\n",
            "30/30 [==============================] - 0s 49us/sample - loss: 3.7608e-07\n",
            "Epoch 85/500\n",
            "30/30 [==============================] - 0s 47us/sample - loss: 3.3762e-07\n",
            "Epoch 86/500\n",
            "30/30 [==============================] - 0s 47us/sample - loss: 2.9474e-07\n",
            "Epoch 87/500\n",
            "30/30 [==============================] - 0s 43us/sample - loss: 2.5365e-07\n",
            "Epoch 88/500\n",
            "30/30 [==============================] - 0s 47us/sample - loss: 2.1853e-07\n",
            "Epoch 89/500\n",
            "30/30 [==============================] - 0s 64us/sample - loss: 1.9038e-07\n",
            "Epoch 90/500\n",
            "30/30 [==============================] - 0s 47us/sample - loss: 1.6820e-07\n",
            "Epoch 91/500\n",
            "30/30 [==============================] - 0s 44us/sample - loss: 1.4673e-07\n",
            "Epoch 92/500\n",
            "30/30 [==============================] - 0s 48us/sample - loss: 1.2607e-07\n",
            "Epoch 93/500\n",
            "30/30 [==============================] - 0s 44us/sample - loss: 1.0499e-07\n",
            "Epoch 94/500\n",
            "30/30 [==============================] - 0s 46us/sample - loss: 8.5348e-08\n",
            "Epoch 95/500\n",
            "30/30 [==============================] - 0s 46us/sample - loss: 6.9809e-08\n",
            "Epoch 96/500\n",
            "30/30 [==============================] - 0s 45us/sample - loss: 5.8416e-08\n",
            "Epoch 97/500\n",
            "30/30 [==============================] - 0s 49us/sample - loss: 4.9852e-08\n",
            "Epoch 98/500\n",
            "30/30 [==============================] - 0s 46us/sample - loss: 4.1289e-08\n",
            "Epoch 99/500\n",
            "30/30 [==============================] - 0s 51us/sample - loss: 3.3117e-08\n",
            "Epoch 100/500\n",
            "30/30 [==============================] - 0s 49us/sample - loss: 2.4551e-08\n",
            "Epoch 101/500\n",
            "30/30 [==============================] - 0s 48us/sample - loss: 1.7931e-08\n",
            "Epoch 102/500\n",
            "30/30 [==============================] - 0s 45us/sample - loss: 1.3474e-08\n",
            "Epoch 103/500\n",
            "30/30 [==============================] - 0s 45us/sample - loss: 1.0707e-08\n",
            "Epoch 104/500\n",
            "30/30 [==============================] - 0s 52us/sample - loss: 8.8822e-09\n",
            "Epoch 105/500\n",
            "30/30 [==============================] - 0s 44us/sample - loss: 6.8250e-09\n",
            "Epoch 106/500\n",
            "30/30 [==============================] - 0s 44us/sample - loss: 4.3106e-09\n",
            "Epoch 107/500\n",
            "30/30 [==============================] - 0s 48us/sample - loss: 2.2073e-09\n",
            "Epoch 108/500\n",
            "30/30 [==============================] - 0s 43us/sample - loss: 9.4554e-10\n",
            "Epoch 109/500\n",
            "30/30 [==============================] - 0s 52us/sample - loss: 6.0406e-10\n",
            "Epoch 110/500\n",
            "30/30 [==============================] - 0s 43us/sample - loss: 8.3664e-10\n",
            "Epoch 111/500\n",
            "30/30 [==============================] - 0s 46us/sample - loss: 1.1776e-09\n",
            "Epoch 112/500\n",
            "30/30 [==============================] - 0s 46us/sample - loss: 1.0381e-09\n",
            "Epoch 113/500\n",
            "30/30 [==============================] - 0s 43us/sample - loss: 6.7645e-10\n",
            "Epoch 114/500\n",
            "30/30 [==============================] - 0s 46us/sample - loss: 5.7908e-10\n",
            "Epoch 115/500\n",
            "30/30 [==============================] - 0s 44us/sample - loss: 7.3260e-10\n",
            "Epoch 116/500\n",
            "30/30 [==============================] - 0s 47us/sample - loss: 1.1312e-09\n",
            "Epoch 117/500\n",
            "30/30 [==============================] - 0s 46us/sample - loss: 1.6545e-09\n",
            "Epoch 118/500\n",
            "30/30 [==============================] - 0s 46us/sample - loss: 1.9989e-09\n",
            "Epoch 119/500\n",
            "30/30 [==============================] - 0s 47us/sample - loss: 2.2137e-09\n",
            "Epoch 120/500\n",
            "30/30 [==============================] - 0s 47us/sample - loss: 2.2478e-09\n",
            "Epoch 121/500\n",
            "30/30 [==============================] - 0s 44us/sample - loss: 2.4473e-09\n",
            "Epoch 122/500\n",
            "30/30 [==============================] - 0s 44us/sample - loss: 2.5644e-09\n",
            "Epoch 123/500\n",
            "30/30 [==============================] - 0s 47us/sample - loss: 2.6679e-09\n",
            "Epoch 124/500\n",
            "30/30 [==============================] - 0s 43us/sample - loss: 2.6617e-09\n",
            "Epoch 125/500\n",
            "30/30 [==============================] - 0s 44us/sample - loss: 2.6617e-09\n",
            "Epoch 126/500\n",
            "30/30 [==============================] - 0s 43us/sample - loss: 2.5395e-09\n",
            "Epoch 127/500\n",
            "30/30 [==============================] - 0s 46us/sample - loss: 2.4699e-09\n",
            "Epoch 128/500\n",
            "30/30 [==============================] - 0s 48us/sample - loss: 2.4473e-09\n",
            "Epoch 129/500\n",
            "30/30 [==============================] - 0s 44us/sample - loss: 2.4976e-09\n",
            "Epoch 130/500\n",
            "30/30 [==============================] - 0s 50us/sample - loss: 2.5273e-09\n",
            "Epoch 131/500\n",
            "30/30 [==============================] - 0s 50us/sample - loss: 2.5273e-09\n",
            "Epoch 132/500\n",
            "30/30 [==============================] - 0s 46us/sample - loss: 2.5273e-09\n",
            "Epoch 133/500\n",
            "30/30 [==============================] - 0s 45us/sample - loss: 2.4976e-09\n",
            "Epoch 134/500\n",
            "30/30 [==============================] - 0s 47us/sample - loss: 2.4473e-09\n",
            "Epoch 135/500\n",
            "30/30 [==============================] - 0s 67us/sample - loss: 2.3840e-09\n",
            "Epoch 136/500\n",
            "30/30 [==============================] - 0s 45us/sample - loss: 2.4699e-09\n",
            "Epoch 137/500\n",
            "30/30 [==============================] - 0s 46us/sample - loss: 2.1432e-09\n",
            "Epoch 138/500\n",
            "30/30 [==============================] - 0s 44us/sample - loss: 1.8073e-09\n",
            "Epoch 139/500\n",
            "30/30 [==============================] - 0s 46us/sample - loss: 1.4815e-09\n",
            "Epoch 140/500\n",
            "30/30 [==============================] - 0s 43us/sample - loss: 1.1277e-09\n",
            "Epoch 141/500\n",
            "30/30 [==============================] - 0s 47us/sample - loss: 9.5900e-10\n",
            "Epoch 142/500\n",
            "30/30 [==============================] - 0s 46us/sample - loss: 7.3260e-10\n",
            "Epoch 143/500\n",
            "30/30 [==============================] - 0s 47us/sample - loss: 5.7301e-10\n",
            "Epoch 144/500\n",
            "30/30 [==============================] - 0s 46us/sample - loss: 4.1803e-10\n",
            "Epoch 145/500\n",
            "30/30 [==============================] - 0s 46us/sample - loss: 3.9645e-10\n",
            "Epoch 146/500\n",
            "30/30 [==============================] - 0s 46us/sample - loss: 3.7426e-10\n",
            "Epoch 147/500\n",
            "30/30 [==============================] - 0s 45us/sample - loss: 3.3703e-10\n",
            "Epoch 148/500\n",
            "30/30 [==============================] - 0s 47us/sample - loss: 3.7244e-10\n",
            "Epoch 149/500\n",
            "30/30 [==============================] - 0s 46us/sample - loss: 4.2046e-10\n",
            "Epoch 150/500\n",
            "30/30 [==============================] - 0s 45us/sample - loss: 4.2046e-10\n",
            "Epoch 151/500\n",
            "30/30 [==============================] - 0s 44us/sample - loss: 3.7244e-10\n",
            "Epoch 152/500\n",
            "30/30 [==============================] - 0s 44us/sample - loss: 3.3703e-10\n",
            "Epoch 153/500\n",
            "30/30 [==============================] - 0s 44us/sample - loss: 3.7426e-10\n",
            "Epoch 154/500\n",
            "30/30 [==============================] - 0s 43us/sample - loss: 3.9645e-10\n",
            "Epoch 155/500\n",
            "30/30 [==============================] - 0s 65us/sample - loss: 3.9645e-10\n",
            "Epoch 156/500\n",
            "30/30 [==============================] - 0s 44us/sample - loss: 3.7426e-10\n",
            "Epoch 157/500\n",
            "30/30 [==============================] - 0s 45us/sample - loss: 3.3703e-10\n",
            "Epoch 158/500\n",
            "30/30 [==============================] - 0s 45us/sample - loss: 3.3703e-10\n",
            "Epoch 159/500\n",
            "30/30 [==============================] - 0s 44us/sample - loss: 3.3703e-10\n",
            "Epoch 160/500\n",
            "30/30 [==============================] - 0s 45us/sample - loss: 3.3703e-10\n",
            "Epoch 161/500\n",
            "30/30 [==============================] - 0s 47us/sample - loss: 3.3703e-10\n",
            "Epoch 162/500\n",
            "30/30 [==============================] - 0s 44us/sample - loss: 3.3703e-10\n",
            "Epoch 163/500\n",
            "30/30 [==============================] - 0s 45us/sample - loss: 3.3703e-10\n",
            "Epoch 164/500\n",
            "30/30 [==============================] - 0s 48us/sample - loss: 3.3703e-10\n",
            "Epoch 165/500\n",
            "30/30 [==============================] - 0s 49us/sample - loss: 3.3703e-10\n",
            "Epoch 166/500\n",
            "30/30 [==============================] - 0s 47us/sample - loss: 3.3703e-10\n",
            "Epoch 167/500\n",
            "30/30 [==============================] - 0s 45us/sample - loss: 3.3703e-10\n",
            "Epoch 168/500\n",
            "30/30 [==============================] - 0s 44us/sample - loss: 3.3703e-10\n",
            "Epoch 169/500\n",
            "30/30 [==============================] - 0s 44us/sample - loss: 3.3703e-10\n",
            "Epoch 170/500\n",
            "30/30 [==============================] - 0s 61us/sample - loss: 3.3703e-10\n",
            "Epoch 171/500\n",
            "30/30 [==============================] - 0s 44us/sample - loss: 3.3703e-10\n",
            "Epoch 172/500\n",
            "30/30 [==============================] - 0s 44us/sample - loss: 3.3703e-10\n",
            "Epoch 173/500\n",
            "30/30 [==============================] - 0s 48us/sample - loss: 3.3703e-10\n",
            "Epoch 174/500\n",
            "30/30 [==============================] - 0s 44us/sample - loss: 3.3703e-10\n",
            "Epoch 175/500\n",
            "30/30 [==============================] - 0s 46us/sample - loss: 3.3703e-10\n",
            "Epoch 176/500\n",
            "30/30 [==============================] - 0s 44us/sample - loss: 3.3703e-10\n",
            "Epoch 177/500\n",
            "30/30 [==============================] - 0s 46us/sample - loss: 3.3703e-10\n",
            "Epoch 178/500\n",
            "30/30 [==============================] - 0s 45us/sample - loss: 3.3703e-10\n",
            "Epoch 179/500\n",
            "30/30 [==============================] - 0s 45us/sample - loss: 3.3703e-10\n",
            "Epoch 180/500\n",
            "30/30 [==============================] - 0s 45us/sample - loss: 3.3703e-10\n",
            "Epoch 181/500\n",
            "30/30 [==============================] - 0s 46us/sample - loss: 3.3703e-10\n",
            "Epoch 182/500\n",
            "30/30 [==============================] - 0s 44us/sample - loss: 3.3703e-10\n",
            "Epoch 183/500\n",
            "30/30 [==============================] - 0s 47us/sample - loss: 3.3703e-10\n",
            "Epoch 184/500\n",
            "30/30 [==============================] - 0s 50us/sample - loss: 3.3703e-10\n",
            "Epoch 185/500\n",
            "30/30 [==============================] - 0s 48us/sample - loss: 3.3703e-10\n",
            "Epoch 186/500\n",
            "30/30 [==============================] - 0s 46us/sample - loss: 3.3703e-10\n",
            "Epoch 187/500\n",
            "30/30 [==============================] - 0s 49us/sample - loss: 3.3703e-10\n",
            "Epoch 188/500\n",
            "30/30 [==============================] - 0s 46us/sample - loss: 3.3703e-10\n",
            "Epoch 189/500\n",
            "30/30 [==============================] - 0s 47us/sample - loss: 3.3703e-10\n",
            "Epoch 190/500\n",
            "30/30 [==============================] - 0s 45us/sample - loss: 3.3703e-10\n",
            "Epoch 191/500\n",
            "30/30 [==============================] - 0s 44us/sample - loss: 3.3703e-10\n",
            "Epoch 192/500\n",
            "30/30 [==============================] - 0s 43us/sample - loss: 3.3703e-10\n",
            "Epoch 193/500\n",
            "30/30 [==============================] - 0s 44us/sample - loss: 3.3703e-10\n",
            "Epoch 194/500\n",
            "30/30 [==============================] - 0s 44us/sample - loss: 3.3703e-10\n",
            "Epoch 195/500\n",
            "30/30 [==============================] - 0s 45us/sample - loss: 3.3703e-10\n",
            "Epoch 196/500\n",
            "30/30 [==============================] - 0s 44us/sample - loss: 3.3703e-10\n",
            "Epoch 197/500\n",
            "30/30 [==============================] - 0s 47us/sample - loss: 3.3703e-10\n",
            "Epoch 198/500\n",
            "30/30 [==============================] - 0s 46us/sample - loss: 3.3703e-10\n",
            "Epoch 199/500\n",
            "30/30 [==============================] - 0s 67us/sample - loss: 3.3703e-10\n",
            "Epoch 200/500\n",
            "30/30 [==============================] - 0s 62us/sample - loss: 3.3703e-10\n",
            "Epoch 201/500\n",
            "30/30 [==============================] - 0s 50us/sample - loss: 3.3703e-10\n",
            "Epoch 202/500\n",
            "30/30 [==============================] - 0s 45us/sample - loss: 3.3703e-10\n",
            "Epoch 203/500\n",
            "30/30 [==============================] - 0s 62us/sample - loss: 3.3703e-10\n",
            "Epoch 204/500\n",
            "30/30 [==============================] - 0s 63us/sample - loss: 3.3703e-10\n",
            "Epoch 205/500\n",
            "30/30 [==============================] - 0s 64us/sample - loss: 3.3703e-10\n",
            "Epoch 206/500\n",
            "30/30 [==============================] - 0s 66us/sample - loss: 3.3703e-10\n",
            "Epoch 207/500\n",
            "30/30 [==============================] - 0s 48us/sample - loss: 3.3703e-10\n",
            "Epoch 208/500\n",
            "30/30 [==============================] - 0s 50us/sample - loss: 3.3703e-10\n",
            "Epoch 209/500\n",
            "30/30 [==============================] - 0s 45us/sample - loss: 3.3703e-10\n",
            "Epoch 210/500\n",
            "30/30 [==============================] - 0s 48us/sample - loss: 3.3703e-10\n",
            "Epoch 211/500\n",
            "30/30 [==============================] - 0s 46us/sample - loss: 3.3703e-10\n",
            "Epoch 212/500\n",
            "30/30 [==============================] - 0s 44us/sample - loss: 3.3703e-10\n",
            "Epoch 213/500\n",
            "30/30 [==============================] - 0s 45us/sample - loss: 3.3703e-10\n",
            "Epoch 214/500\n",
            "30/30 [==============================] - 0s 45us/sample - loss: 3.3703e-10\n",
            "Epoch 215/500\n",
            "30/30 [==============================] - 0s 47us/sample - loss: 3.3703e-10\n",
            "Epoch 216/500\n",
            "30/30 [==============================] - 0s 46us/sample - loss: 3.3703e-10\n",
            "Epoch 217/500\n",
            "30/30 [==============================] - 0s 48us/sample - loss: 3.3703e-10\n",
            "Epoch 218/500\n",
            "30/30 [==============================] - 0s 46us/sample - loss: 3.3703e-10\n",
            "Epoch 219/500\n",
            "30/30 [==============================] - 0s 53us/sample - loss: 3.3703e-10\n",
            "Epoch 220/500\n",
            "30/30 [==============================] - 0s 48us/sample - loss: 3.3703e-10\n",
            "Epoch 221/500\n",
            "30/30 [==============================] - 0s 55us/sample - loss: 3.3703e-10\n",
            "Epoch 222/500\n",
            "30/30 [==============================] - 0s 47us/sample - loss: 3.3703e-10\n",
            "Epoch 223/500\n",
            "30/30 [==============================] - 0s 46us/sample - loss: 3.3703e-10\n",
            "Epoch 224/500\n",
            "30/30 [==============================] - 0s 43us/sample - loss: 3.3703e-10\n",
            "Epoch 225/500\n",
            "30/30 [==============================] - 0s 46us/sample - loss: 3.3703e-10\n",
            "Epoch 226/500\n",
            "30/30 [==============================] - 0s 52us/sample - loss: 3.3703e-10\n",
            "Epoch 227/500\n",
            "30/30 [==============================] - 0s 43us/sample - loss: 3.3703e-10\n",
            "Epoch 228/500\n",
            "30/30 [==============================] - 0s 45us/sample - loss: 3.3703e-10\n",
            "Epoch 229/500\n",
            "30/30 [==============================] - 0s 45us/sample - loss: 3.3703e-10\n",
            "Epoch 230/500\n",
            "30/30 [==============================] - 0s 52us/sample - loss: 3.3703e-10\n",
            "Epoch 231/500\n",
            "30/30 [==============================] - 0s 44us/sample - loss: 3.3703e-10\n",
            "Epoch 232/500\n",
            "30/30 [==============================] - 0s 49us/sample - loss: 3.3703e-10\n",
            "Epoch 233/500\n",
            "30/30 [==============================] - 0s 63us/sample - loss: 3.3703e-10\n",
            "Epoch 234/500\n",
            "30/30 [==============================] - 0s 65us/sample - loss: 3.3703e-10\n",
            "Epoch 235/500\n",
            "30/30 [==============================] - 0s 62us/sample - loss: 3.3703e-10\n",
            "Epoch 236/500\n",
            "30/30 [==============================] - 0s 46us/sample - loss: 3.3703e-10\n",
            "Epoch 237/500\n",
            "30/30 [==============================] - 0s 47us/sample - loss: 3.3703e-10\n",
            "Epoch 238/500\n",
            "30/30 [==============================] - 0s 44us/sample - loss: 3.3703e-10\n",
            "Epoch 239/500\n",
            "30/30 [==============================] - 0s 64us/sample - loss: 3.3703e-10\n",
            "Epoch 240/500\n",
            "30/30 [==============================] - 0s 53us/sample - loss: 3.3703e-10\n",
            "Epoch 241/500\n",
            "30/30 [==============================] - 0s 48us/sample - loss: 3.3703e-10\n",
            "Epoch 242/500\n",
            "30/30 [==============================] - 0s 45us/sample - loss: 3.3703e-10\n",
            "Epoch 243/500\n",
            "30/30 [==============================] - 0s 43us/sample - loss: 3.3703e-10\n",
            "Epoch 244/500\n",
            "30/30 [==============================] - 0s 45us/sample - loss: 3.3703e-10\n",
            "Epoch 245/500\n",
            "30/30 [==============================] - 0s 44us/sample - loss: 3.3703e-10\n",
            "Epoch 246/500\n",
            "30/30 [==============================] - 0s 45us/sample - loss: 3.3703e-10\n",
            "Epoch 247/500\n",
            "30/30 [==============================] - 0s 46us/sample - loss: 3.3703e-10\n",
            "Epoch 248/500\n",
            "30/30 [==============================] - 0s 45us/sample - loss: 3.3703e-10\n",
            "Epoch 249/500\n",
            "30/30 [==============================] - 0s 48us/sample - loss: 3.3703e-10\n",
            "Epoch 250/500\n",
            "30/30 [==============================] - 0s 45us/sample - loss: 3.3703e-10\n",
            "Epoch 251/500\n",
            "30/30 [==============================] - 0s 45us/sample - loss: 3.3703e-10\n",
            "Epoch 252/500\n",
            "30/30 [==============================] - 0s 46us/sample - loss: 3.3703e-10\n",
            "Epoch 253/500\n",
            "30/30 [==============================] - 0s 45us/sample - loss: 3.3703e-10\n",
            "Epoch 254/500\n",
            "30/30 [==============================] - 0s 46us/sample - loss: 3.3703e-10\n",
            "Epoch 255/500\n",
            "30/30 [==============================] - 0s 48us/sample - loss: 3.3703e-10\n",
            "Epoch 256/500\n",
            "30/30 [==============================] - 0s 46us/sample - loss: 3.3703e-10\n",
            "Epoch 257/500\n",
            "30/30 [==============================] - 0s 46us/sample - loss: 3.3703e-10\n",
            "Epoch 258/500\n",
            "30/30 [==============================] - 0s 53us/sample - loss: 3.3703e-10\n",
            "Epoch 259/500\n",
            "30/30 [==============================] - 0s 47us/sample - loss: 3.3703e-10\n",
            "Epoch 260/500\n",
            "30/30 [==============================] - 0s 47us/sample - loss: 3.3703e-10\n",
            "Epoch 261/500\n",
            "30/30 [==============================] - 0s 46us/sample - loss: 3.3703e-10\n",
            "Epoch 262/500\n",
            "30/30 [==============================] - 0s 44us/sample - loss: 3.3703e-10\n",
            "Epoch 263/500\n",
            "30/30 [==============================] - 0s 64us/sample - loss: 3.3703e-10\n",
            "Epoch 264/500\n",
            "30/30 [==============================] - 0s 62us/sample - loss: 3.3703e-10\n",
            "Epoch 265/500\n",
            "30/30 [==============================] - 0s 65us/sample - loss: 3.3703e-10\n",
            "Epoch 266/500\n",
            "30/30 [==============================] - 0s 62us/sample - loss: 3.3703e-10\n",
            "Epoch 267/500\n",
            "30/30 [==============================] - 0s 61us/sample - loss: 3.3703e-10\n",
            "Epoch 268/500\n",
            "30/30 [==============================] - 0s 62us/sample - loss: 3.3703e-10\n",
            "Epoch 269/500\n",
            "30/30 [==============================] - 0s 62us/sample - loss: 3.3703e-10\n",
            "Epoch 270/500\n",
            "30/30 [==============================] - 0s 62us/sample - loss: 3.3703e-10\n",
            "Epoch 271/500\n",
            "30/30 [==============================] - 0s 64us/sample - loss: 3.3703e-10\n",
            "Epoch 272/500\n",
            "30/30 [==============================] - 0s 69us/sample - loss: 3.3703e-10\n",
            "Epoch 273/500\n",
            "30/30 [==============================] - 0s 47us/sample - loss: 3.3703e-10\n",
            "Epoch 274/500\n",
            "30/30 [==============================] - 0s 44us/sample - loss: 3.3703e-10\n",
            "Epoch 275/500\n",
            "30/30 [==============================] - 0s 45us/sample - loss: 3.3703e-10\n",
            "Epoch 276/500\n",
            "30/30 [==============================] - 0s 44us/sample - loss: 3.3703e-10\n",
            "Epoch 277/500\n",
            "30/30 [==============================] - 0s 44us/sample - loss: 3.3703e-10\n",
            "Epoch 278/500\n",
            "30/30 [==============================] - 0s 43us/sample - loss: 3.3703e-10\n",
            "Epoch 279/500\n",
            "30/30 [==============================] - 0s 45us/sample - loss: 3.7426e-10\n",
            "Epoch 280/500\n",
            "30/30 [==============================] - 0s 45us/sample - loss: 3.7426e-10\n",
            "Epoch 281/500\n",
            "30/30 [==============================] - 0s 46us/sample - loss: 3.7426e-10\n",
            "Epoch 282/500\n",
            "30/30 [==============================] - 0s 295us/sample - loss: 3.7426e-10\n",
            "Epoch 283/500\n",
            "30/30 [==============================] - 0s 50us/sample - loss: 3.7426e-10\n",
            "Epoch 284/500\n",
            "30/30 [==============================] - 0s 109us/sample - loss: 3.7426e-10\n",
            "Epoch 285/500\n",
            "30/30 [==============================] - 0s 73us/sample - loss: 3.7426e-10\n",
            "Epoch 286/500\n",
            "30/30 [==============================] - 0s 58us/sample - loss: 3.7426e-10\n",
            "Epoch 287/500\n",
            "30/30 [==============================] - 0s 88us/sample - loss: 3.7426e-10\n",
            "Epoch 288/500\n",
            "30/30 [==============================] - 0s 85us/sample - loss: 3.7426e-10\n",
            "Epoch 289/500\n",
            "30/30 [==============================] - 0s 63us/sample - loss: 3.7426e-10\n",
            "Epoch 290/500\n",
            "30/30 [==============================] - 0s 51us/sample - loss: 3.3703e-10\n",
            "Epoch 291/500\n",
            "30/30 [==============================] - 0s 45us/sample - loss: 3.3703e-10\n",
            "Epoch 292/500\n",
            "30/30 [==============================] - 0s 47us/sample - loss: 3.3703e-10\n",
            "Epoch 293/500\n",
            "30/30 [==============================] - 0s 45us/sample - loss: 3.3703e-10\n",
            "Epoch 294/500\n",
            "30/30 [==============================] - 0s 46us/sample - loss: 3.3703e-10\n",
            "Epoch 295/500\n",
            "30/30 [==============================] - 0s 44us/sample - loss: 3.3703e-10\n",
            "Epoch 296/500\n",
            "30/30 [==============================] - 0s 50us/sample - loss: 3.3703e-10\n",
            "Epoch 297/500\n",
            "30/30 [==============================] - 0s 49us/sample - loss: 3.3703e-10\n",
            "Epoch 298/500\n",
            "30/30 [==============================] - 0s 45us/sample - loss: 3.3703e-10\n",
            "Epoch 299/500\n",
            "30/30 [==============================] - 0s 46us/sample - loss: 3.3703e-10\n",
            "Epoch 300/500\n",
            "30/30 [==============================] - 0s 46us/sample - loss: 3.3703e-10\n",
            "Epoch 301/500\n",
            "30/30 [==============================] - 0s 44us/sample - loss: 3.3703e-10\n",
            "Epoch 302/500\n",
            "30/30 [==============================] - 0s 45us/sample - loss: 3.3703e-10\n",
            "Epoch 303/500\n",
            "30/30 [==============================] - 0s 45us/sample - loss: 3.3703e-10\n",
            "Epoch 304/500\n",
            "30/30 [==============================] - 0s 44us/sample - loss: 3.3703e-10\n",
            "Epoch 305/500\n",
            "30/30 [==============================] - 0s 46us/sample - loss: 3.3703e-10\n",
            "Epoch 306/500\n",
            "30/30 [==============================] - 0s 45us/sample - loss: 3.3703e-10\n",
            "Epoch 307/500\n",
            "30/30 [==============================] - 0s 46us/sample - loss: 3.3703e-10\n",
            "Epoch 308/500\n",
            "30/30 [==============================] - 0s 46us/sample - loss: 3.3703e-10\n",
            "Epoch 309/500\n",
            "30/30 [==============================] - 0s 44us/sample - loss: 3.3703e-10\n",
            "Epoch 310/500\n",
            "30/30 [==============================] - 0s 44us/sample - loss: 3.3703e-10\n",
            "Epoch 311/500\n",
            "30/30 [==============================] - 0s 44us/sample - loss: 3.3703e-10\n",
            "Epoch 312/500\n",
            "30/30 [==============================] - 0s 45us/sample - loss: 3.3703e-10\n",
            "Epoch 313/500\n",
            "30/30 [==============================] - 0s 51us/sample - loss: 3.3703e-10\n",
            "Epoch 314/500\n",
            "30/30 [==============================] - 0s 47us/sample - loss: 3.3703e-10\n",
            "Epoch 315/500\n",
            "30/30 [==============================] - 0s 63us/sample - loss: 3.3703e-10\n",
            "Epoch 316/500\n",
            "30/30 [==============================] - 0s 48us/sample - loss: 3.3703e-10\n",
            "Epoch 317/500\n",
            "30/30 [==============================] - 0s 61us/sample - loss: 3.3703e-10\n",
            "Epoch 318/500\n",
            "30/30 [==============================] - 0s 47us/sample - loss: 3.3703e-10\n",
            "Epoch 319/500\n",
            "30/30 [==============================] - 0s 43us/sample - loss: 3.3703e-10\n",
            "Epoch 320/500\n",
            "30/30 [==============================] - 0s 47us/sample - loss: 3.3703e-10\n",
            "Epoch 321/500\n",
            "30/30 [==============================] - 0s 44us/sample - loss: 3.3703e-10\n",
            "Epoch 322/500\n",
            "30/30 [==============================] - 0s 53us/sample - loss: 3.3703e-10\n",
            "Epoch 323/500\n",
            "30/30 [==============================] - 0s 49us/sample - loss: 3.3703e-10\n",
            "Epoch 324/500\n",
            "30/30 [==============================] - 0s 63us/sample - loss: 3.7426e-10\n",
            "Epoch 325/500\n",
            "30/30 [==============================] - 0s 63us/sample - loss: 3.7426e-10\n",
            "Epoch 326/500\n",
            "30/30 [==============================] - 0s 65us/sample - loss: 3.7426e-10\n",
            "Epoch 327/500\n",
            "30/30 [==============================] - 0s 62us/sample - loss: 3.7426e-10\n",
            "Epoch 328/500\n",
            "30/30 [==============================] - 0s 50us/sample - loss: 3.7426e-10\n",
            "Epoch 329/500\n",
            "30/30 [==============================] - 0s 67us/sample - loss: 3.7426e-10\n",
            "Epoch 330/500\n",
            "30/30 [==============================] - 0s 63us/sample - loss: 3.7426e-10\n",
            "Epoch 331/500\n",
            "30/30 [==============================] - 0s 68us/sample - loss: 3.7426e-10\n",
            "Epoch 332/500\n",
            "30/30 [==============================] - 0s 47us/sample - loss: 3.7426e-10\n",
            "Epoch 333/500\n",
            "30/30 [==============================] - 0s 44us/sample - loss: 3.7426e-10\n",
            "Epoch 334/500\n",
            "30/30 [==============================] - 0s 42us/sample - loss: 3.3703e-10\n",
            "Epoch 335/500\n",
            "30/30 [==============================] - 0s 44us/sample - loss: 3.3703e-10\n",
            "Epoch 336/500\n",
            "30/30 [==============================] - 0s 53us/sample - loss: 3.3703e-10\n",
            "Epoch 337/500\n",
            "30/30 [==============================] - 0s 44us/sample - loss: 3.3703e-10\n",
            "Epoch 338/500\n",
            "30/30 [==============================] - 0s 51us/sample - loss: 3.3703e-10\n",
            "Epoch 339/500\n",
            "30/30 [==============================] - 0s 45us/sample - loss: 3.3703e-10\n",
            "Epoch 340/500\n",
            "30/30 [==============================] - 0s 45us/sample - loss: 3.3703e-10\n",
            "Epoch 341/500\n",
            "30/30 [==============================] - 0s 44us/sample - loss: 3.3703e-10\n",
            "Epoch 342/500\n",
            "30/30 [==============================] - 0s 64us/sample - loss: 3.3703e-10\n",
            "Epoch 343/500\n",
            "30/30 [==============================] - 0s 44us/sample - loss: 3.3703e-10\n",
            "Epoch 344/500\n",
            "30/30 [==============================] - 0s 45us/sample - loss: 3.3703e-10\n",
            "Epoch 345/500\n",
            "30/30 [==============================] - 0s 46us/sample - loss: 3.3703e-10\n",
            "Epoch 346/500\n",
            "30/30 [==============================] - 0s 44us/sample - loss: 3.3703e-10\n",
            "Epoch 347/500\n",
            "30/30 [==============================] - 0s 44us/sample - loss: 3.3703e-10\n",
            "Epoch 348/500\n",
            "30/30 [==============================] - 0s 57us/sample - loss: 3.3703e-10\n",
            "Epoch 349/500\n",
            "30/30 [==============================] - 0s 42us/sample - loss: 3.3703e-10\n",
            "Epoch 350/500\n",
            "30/30 [==============================] - 0s 66us/sample - loss: 3.3703e-10\n",
            "Epoch 351/500\n",
            "30/30 [==============================] - 0s 61us/sample - loss: 3.3703e-10\n",
            "Epoch 352/500\n",
            "30/30 [==============================] - 0s 63us/sample - loss: 3.3703e-10\n",
            "Epoch 353/500\n",
            "30/30 [==============================] - 0s 44us/sample - loss: 3.3703e-10\n",
            "Epoch 354/500\n",
            "30/30 [==============================] - 0s 62us/sample - loss: 3.3703e-10\n",
            "Epoch 355/500\n",
            "30/30 [==============================] - 0s 50us/sample - loss: 3.3703e-10\n",
            "Epoch 356/500\n",
            "30/30 [==============================] - 0s 43us/sample - loss: 3.3703e-10\n",
            "Epoch 357/500\n",
            "30/30 [==============================] - 0s 49us/sample - loss: 3.3703e-10\n",
            "Epoch 358/500\n",
            "30/30 [==============================] - 0s 44us/sample - loss: 3.3703e-10\n",
            "Epoch 359/500\n",
            "30/30 [==============================] - 0s 48us/sample - loss: 3.3703e-10\n",
            "Epoch 360/500\n",
            "30/30 [==============================] - 0s 44us/sample - loss: 3.3703e-10\n",
            "Epoch 361/500\n",
            "30/30 [==============================] - 0s 44us/sample - loss: 3.3703e-10\n",
            "Epoch 362/500\n",
            "30/30 [==============================] - 0s 44us/sample - loss: 3.3703e-10\n",
            "Epoch 363/500\n",
            "30/30 [==============================] - 0s 45us/sample - loss: 3.7426e-10\n",
            "Epoch 364/500\n",
            "30/30 [==============================] - 0s 46us/sample - loss: 3.7426e-10\n",
            "Epoch 365/500\n",
            "30/30 [==============================] - 0s 55us/sample - loss: 3.7426e-10\n",
            "Epoch 366/500\n",
            "30/30 [==============================] - 0s 45us/sample - loss: 3.7426e-10\n",
            "Epoch 367/500\n",
            "30/30 [==============================] - 0s 49us/sample - loss: 3.7426e-10\n",
            "Epoch 368/500\n",
            "30/30 [==============================] - 0s 45us/sample - loss: 3.7426e-10\n",
            "Epoch 369/500\n",
            "30/30 [==============================] - 0s 49us/sample - loss: 3.7426e-10\n",
            "Epoch 370/500\n",
            "30/30 [==============================] - 0s 44us/sample - loss: 3.7426e-10\n",
            "Epoch 371/500\n",
            "30/30 [==============================] - 0s 42us/sample - loss: 3.7426e-10\n",
            "Epoch 372/500\n",
            "30/30 [==============================] - 0s 45us/sample - loss: 3.7426e-10\n",
            "Epoch 373/500\n",
            "30/30 [==============================] - 0s 43us/sample - loss: 3.3703e-10\n",
            "Epoch 374/500\n",
            "30/30 [==============================] - 0s 66us/sample - loss: 3.3703e-10\n",
            "Epoch 375/500\n",
            "30/30 [==============================] - 0s 63us/sample - loss: 3.3703e-10\n",
            "Epoch 376/500\n",
            "30/30 [==============================] - 0s 46us/sample - loss: 3.3703e-10\n",
            "Epoch 377/500\n",
            "30/30 [==============================] - 0s 44us/sample - loss: 3.3703e-10\n",
            "Epoch 378/500\n",
            "30/30 [==============================] - 0s 63us/sample - loss: 3.3703e-10\n",
            "Epoch 379/500\n",
            "30/30 [==============================] - 0s 46us/sample - loss: 3.3703e-10\n",
            "Epoch 380/500\n",
            "30/30 [==============================] - 0s 61us/sample - loss: 3.3703e-10\n",
            "Epoch 381/500\n",
            "30/30 [==============================] - 0s 65us/sample - loss: 3.3703e-10\n",
            "Epoch 382/500\n",
            "30/30 [==============================] - 0s 41us/sample - loss: 3.3703e-10\n",
            "Epoch 383/500\n",
            "30/30 [==============================] - 0s 63us/sample - loss: 3.3703e-10\n",
            "Epoch 384/500\n",
            "30/30 [==============================] - 0s 73us/sample - loss: 3.3703e-10\n",
            "Epoch 385/500\n",
            "30/30 [==============================] - 0s 64us/sample - loss: 3.3703e-10\n",
            "Epoch 386/500\n",
            "30/30 [==============================] - 0s 66us/sample - loss: 3.3703e-10\n",
            "Epoch 387/500\n",
            "30/30 [==============================] - 0s 63us/sample - loss: 3.3703e-10\n",
            "Epoch 388/500\n",
            "30/30 [==============================] - 0s 62us/sample - loss: 3.3703e-10\n",
            "Epoch 389/500\n",
            "30/30 [==============================] - 0s 66us/sample - loss: 3.3703e-10\n",
            "Epoch 390/500\n",
            "30/30 [==============================] - 0s 60us/sample - loss: 3.3703e-10\n",
            "Epoch 391/500\n",
            "30/30 [==============================] - 0s 65us/sample - loss: 3.3703e-10\n",
            "Epoch 392/500\n",
            "30/30 [==============================] - 0s 44us/sample - loss: 3.3703e-10\n",
            "Epoch 393/500\n",
            "30/30 [==============================] - 0s 67us/sample - loss: 3.3703e-10\n",
            "Epoch 394/500\n",
            "30/30 [==============================] - 0s 62us/sample - loss: 3.3703e-10\n",
            "Epoch 395/500\n",
            "30/30 [==============================] - 0s 52us/sample - loss: 3.3703e-10\n",
            "Epoch 396/500\n",
            "30/30 [==============================] - 0s 43us/sample - loss: 3.3703e-10\n",
            "Epoch 397/500\n",
            "30/30 [==============================] - 0s 44us/sample - loss: 3.3703e-10\n",
            "Epoch 398/500\n",
            "30/30 [==============================] - 0s 45us/sample - loss: 3.3703e-10\n",
            "Epoch 399/500\n",
            "30/30 [==============================] - 0s 44us/sample - loss: 3.7426e-10\n",
            "Epoch 400/500\n",
            "30/30 [==============================] - 0s 48us/sample - loss: 3.7426e-10\n",
            "Epoch 401/500\n",
            "30/30 [==============================] - 0s 44us/sample - loss: 3.7426e-10\n",
            "Epoch 402/500\n",
            "30/30 [==============================] - 0s 38us/sample - loss: 3.7426e-10\n",
            "Epoch 403/500\n",
            "30/30 [==============================] - 0s 60us/sample - loss: 3.7426e-10\n",
            "Epoch 404/500\n",
            "30/30 [==============================] - 0s 49us/sample - loss: 3.7426e-10\n",
            "Epoch 405/500\n",
            "30/30 [==============================] - 0s 40us/sample - loss: 3.7426e-10\n",
            "Epoch 406/500\n",
            "30/30 [==============================] - 0s 44us/sample - loss: 3.7426e-10\n",
            "Epoch 407/500\n",
            "30/30 [==============================] - 0s 61us/sample - loss: 3.7426e-10\n",
            "Epoch 408/500\n",
            "30/30 [==============================] - 0s 62us/sample - loss: 3.3703e-10\n",
            "Epoch 409/500\n",
            "30/30 [==============================] - 0s 62us/sample - loss: 3.3703e-10\n",
            "Epoch 410/500\n",
            "30/30 [==============================] - 0s 61us/sample - loss: 3.3703e-10\n",
            "Epoch 411/500\n",
            "30/30 [==============================] - 0s 62us/sample - loss: 3.3703e-10\n",
            "Epoch 412/500\n",
            "30/30 [==============================] - 0s 63us/sample - loss: 3.3703e-10\n",
            "Epoch 413/500\n",
            "30/30 [==============================] - 0s 61us/sample - loss: 3.3703e-10\n",
            "Epoch 414/500\n",
            "30/30 [==============================] - 0s 74us/sample - loss: 3.3703e-10\n",
            "Epoch 415/500\n",
            "30/30 [==============================] - 0s 61us/sample - loss: 3.3703e-10\n",
            "Epoch 416/500\n",
            "30/30 [==============================] - 0s 70us/sample - loss: 3.3703e-10\n",
            "Epoch 417/500\n",
            "30/30 [==============================] - 0s 45us/sample - loss: 3.3703e-10\n",
            "Epoch 418/500\n",
            "30/30 [==============================] - 0s 47us/sample - loss: 3.3703e-10\n",
            "Epoch 419/500\n",
            "30/30 [==============================] - 0s 43us/sample - loss: 3.3703e-10\n",
            "Epoch 420/500\n",
            "30/30 [==============================] - 0s 54us/sample - loss: 3.3703e-10\n",
            "Epoch 421/500\n",
            "30/30 [==============================] - 0s 49us/sample - loss: 3.3703e-10\n",
            "Epoch 422/500\n",
            "30/30 [==============================] - 0s 62us/sample - loss: 3.3703e-10\n",
            "Epoch 423/500\n",
            "30/30 [==============================] - 0s 67us/sample - loss: 3.3703e-10\n",
            "Epoch 424/500\n",
            "30/30 [==============================] - 0s 63us/sample - loss: 3.3703e-10\n",
            "Epoch 425/500\n",
            "30/30 [==============================] - 0s 45us/sample - loss: 3.3703e-10\n",
            "Epoch 426/500\n",
            "30/30 [==============================] - 0s 44us/sample - loss: 3.3703e-10\n",
            "Epoch 427/500\n",
            "30/30 [==============================] - 0s 45us/sample - loss: 3.3703e-10\n",
            "Epoch 428/500\n",
            "30/30 [==============================] - 0s 43us/sample - loss: 3.3703e-10\n",
            "Epoch 429/500\n",
            "30/30 [==============================] - 0s 51us/sample - loss: 3.3703e-10\n",
            "Epoch 430/500\n",
            "30/30 [==============================] - 0s 44us/sample - loss: 3.3703e-10\n",
            "Epoch 431/500\n",
            "30/30 [==============================] - 0s 49us/sample - loss: 3.7426e-10\n",
            "Epoch 432/500\n",
            "30/30 [==============================] - 0s 44us/sample - loss: 3.7426e-10\n",
            "Epoch 433/500\n",
            "30/30 [==============================] - 0s 76us/sample - loss: 3.7426e-10\n",
            "Epoch 434/500\n",
            "30/30 [==============================] - 0s 68us/sample - loss: 3.7426e-10\n",
            "Epoch 435/500\n",
            "30/30 [==============================] - 0s 71us/sample - loss: 3.7426e-10\n",
            "Epoch 436/500\n",
            "30/30 [==============================] - 0s 47us/sample - loss: 3.7426e-10\n",
            "Epoch 437/500\n",
            "30/30 [==============================] - 0s 50us/sample - loss: 3.7426e-10\n",
            "Epoch 438/500\n",
            "30/30 [==============================] - 0s 63us/sample - loss: 3.7426e-10\n",
            "Epoch 439/500\n",
            "30/30 [==============================] - 0s 63us/sample - loss: 3.7426e-10\n",
            "Epoch 440/500\n",
            "30/30 [==============================] - 0s 62us/sample - loss: 3.3703e-10\n",
            "Epoch 441/500\n",
            "30/30 [==============================] - 0s 63us/sample - loss: 3.3703e-10\n",
            "Epoch 442/500\n",
            "30/30 [==============================] - 0s 63us/sample - loss: 3.3703e-10\n",
            "Epoch 443/500\n",
            "30/30 [==============================] - 0s 67us/sample - loss: 3.3703e-10\n",
            "Epoch 444/500\n",
            "30/30 [==============================] - 0s 65us/sample - loss: 3.3703e-10\n",
            "Epoch 445/500\n",
            "30/30 [==============================] - 0s 50us/sample - loss: 3.3703e-10\n",
            "Epoch 446/500\n",
            "30/30 [==============================] - 0s 81us/sample - loss: 3.3703e-10\n",
            "Epoch 447/500\n",
            "30/30 [==============================] - 0s 70us/sample - loss: 3.3703e-10\n",
            "Epoch 448/500\n",
            "30/30 [==============================] - 0s 69us/sample - loss: 3.3703e-10\n",
            "Epoch 449/500\n",
            "30/30 [==============================] - 0s 88us/sample - loss: 3.3703e-10\n",
            "Epoch 450/500\n",
            "30/30 [==============================] - 0s 67us/sample - loss: 3.3703e-10\n",
            "Epoch 451/500\n",
            "30/30 [==============================] - 0s 52us/sample - loss: 3.3703e-10\n",
            "Epoch 452/500\n",
            "30/30 [==============================] - 0s 85us/sample - loss: 3.3703e-10\n",
            "Epoch 453/500\n",
            "30/30 [==============================] - 0s 65us/sample - loss: 3.3703e-10\n",
            "Epoch 454/500\n",
            "30/30 [==============================] - 0s 70us/sample - loss: 3.3703e-10\n",
            "Epoch 455/500\n",
            "30/30 [==============================] - 0s 67us/sample - loss: 3.3703e-10\n",
            "Epoch 456/500\n",
            "30/30 [==============================] - 0s 66us/sample - loss: 3.3703e-10\n",
            "Epoch 457/500\n",
            "30/30 [==============================] - 0s 72us/sample - loss: 3.3703e-10\n",
            "Epoch 458/500\n",
            "30/30 [==============================] - 0s 51us/sample - loss: 3.3703e-10\n",
            "Epoch 459/500\n",
            "30/30 [==============================] - 0s 69us/sample - loss: 3.3703e-10\n",
            "Epoch 460/500\n",
            "30/30 [==============================] - 0s 71us/sample - loss: 3.3703e-10\n",
            "Epoch 461/500\n",
            "30/30 [==============================] - 0s 67us/sample - loss: 3.3703e-10\n",
            "Epoch 462/500\n",
            "30/30 [==============================] - 0s 69us/sample - loss: 3.7426e-10\n",
            "Epoch 463/500\n",
            "30/30 [==============================] - 0s 67us/sample - loss: 3.7426e-10\n",
            "Epoch 464/500\n",
            "30/30 [==============================] - 0s 63us/sample - loss: 3.7426e-10\n",
            "Epoch 465/500\n",
            "30/30 [==============================] - 0s 42us/sample - loss: 3.7426e-10\n",
            "Epoch 466/500\n",
            "30/30 [==============================] - 0s 163us/sample - loss: 3.7426e-10\n",
            "Epoch 467/500\n",
            "30/30 [==============================] - 0s 44us/sample - loss: 3.7426e-10\n",
            "Epoch 468/500\n",
            "30/30 [==============================] - 0s 50us/sample - loss: 3.7426e-10\n",
            "Epoch 469/500\n",
            "30/30 [==============================] - 0s 65us/sample - loss: 3.7426e-10\n",
            "Epoch 470/500\n",
            "30/30 [==============================] - 0s 68us/sample - loss: 3.3703e-10\n",
            "Epoch 471/500\n",
            "30/30 [==============================] - 0s 67us/sample - loss: 3.3703e-10\n",
            "Epoch 472/500\n",
            "30/30 [==============================] - 0s 68us/sample - loss: 3.3703e-10\n",
            "Epoch 473/500\n",
            "30/30 [==============================] - 0s 65us/sample - loss: 3.3703e-10\n",
            "Epoch 474/500\n",
            "30/30 [==============================] - 0s 55us/sample - loss: 3.3703e-10\n",
            "Epoch 475/500\n",
            "30/30 [==============================] - 0s 69us/sample - loss: 3.3703e-10\n",
            "Epoch 476/500\n",
            "30/30 [==============================] - 0s 67us/sample - loss: 3.3703e-10\n",
            "Epoch 477/500\n",
            "30/30 [==============================] - 0s 69us/sample - loss: 3.3703e-10\n",
            "Epoch 478/500\n",
            "30/30 [==============================] - 0s 66us/sample - loss: 3.3703e-10\n",
            "Epoch 479/500\n",
            "30/30 [==============================] - 0s 67us/sample - loss: 3.3703e-10\n",
            "Epoch 480/500\n",
            "30/30 [==============================] - 0s 75us/sample - loss: 3.3703e-10\n",
            "Epoch 481/500\n",
            "30/30 [==============================] - 0s 46us/sample - loss: 3.3703e-10\n",
            "Epoch 482/500\n",
            "30/30 [==============================] - 0s 43us/sample - loss: 3.3703e-10\n",
            "Epoch 483/500\n",
            "30/30 [==============================] - 0s 49us/sample - loss: 3.3703e-10\n",
            "Epoch 484/500\n",
            "30/30 [==============================] - 0s 57us/sample - loss: 3.3703e-10\n",
            "Epoch 485/500\n",
            "30/30 [==============================] - 0s 59us/sample - loss: 3.3703e-10\n",
            "Epoch 486/500\n",
            "30/30 [==============================] - 0s 53us/sample - loss: 3.3703e-10\n",
            "Epoch 487/500\n",
            "30/30 [==============================] - 0s 57us/sample - loss: 3.3703e-10\n",
            "Epoch 488/500\n",
            "30/30 [==============================] - 0s 65us/sample - loss: 3.3703e-10\n",
            "Epoch 489/500\n",
            "30/30 [==============================] - 0s 67us/sample - loss: 3.3703e-10\n",
            "Epoch 490/500\n",
            "30/30 [==============================] - 0s 55us/sample - loss: 3.7426e-10\n",
            "Epoch 491/500\n",
            "30/30 [==============================] - 0s 64us/sample - loss: 3.7426e-10\n",
            "Epoch 492/500\n",
            "30/30 [==============================] - 0s 69us/sample - loss: 3.7426e-10\n",
            "Epoch 493/500\n",
            "30/30 [==============================] - 0s 45us/sample - loss: 3.7426e-10\n",
            "Epoch 494/500\n",
            "30/30 [==============================] - 0s 47us/sample - loss: 3.7426e-10\n",
            "Epoch 495/500\n",
            "30/30 [==============================] - 0s 66us/sample - loss: 3.7426e-10\n",
            "Epoch 496/500\n",
            "30/30 [==============================] - 0s 66us/sample - loss: 3.7426e-10\n",
            "Epoch 497/500\n",
            "30/30 [==============================] - 0s 65us/sample - loss: 3.7426e-10\n",
            "Epoch 498/500\n",
            "30/30 [==============================] - 0s 51us/sample - loss: 3.3703e-10\n",
            "Epoch 499/500\n",
            "30/30 [==============================] - 0s 76us/sample - loss: 3.3703e-10\n",
            "Epoch 500/500\n",
            "30/30 [==============================] - 0s 46us/sample - loss: 3.3703e-10\n"
          ],
          "name": "stdout"
        }
      ]
    },
    {
      "cell_type": "markdown",
      "metadata": {
        "id": "PjKupxZd9LuP",
        "colab_type": "text"
      },
      "source": [
        "**Evaluate the model**"
      ]
    },
    {
      "cell_type": "code",
      "metadata": {
        "id": "XSsdzxzh7xn8",
        "colab_type": "code",
        "colab": {
          "base_uri": "https://localhost:8080/",
          "height": 34
        },
        "outputId": "46e93573-9df4-4058-f71b-445158e73969"
      },
      "source": [
        "epoc_hist.history.keys()"
      ],
      "execution_count": 33,
      "outputs": [
        {
          "output_type": "execute_result",
          "data": {
            "text/plain": [
              "dict_keys(['loss'])"
            ]
          },
          "metadata": {
            "tags": []
          },
          "execution_count": 33
        }
      ]
    },
    {
      "cell_type": "code",
      "metadata": {
        "id": "l0hVn-eR9vjp",
        "colab_type": "code",
        "colab": {
          "base_uri": "https://localhost:8080/",
          "height": 312
        },
        "outputId": "27aea561-1c6d-4435-93d1-a8963d25d6c1"
      },
      "source": [
        "plt.plot(epoc_hist.history['loss'])\n",
        "plt.title(\"Model loss program during training\")\n",
        "plt.xlabel(\"Epocs\")\n",
        "plt.ylabel(\"Training Loss\")\n",
        "plt.legend([\"Training Loss\"])"
      ],
      "execution_count": 34,
      "outputs": [
        {
          "output_type": "execute_result",
          "data": {
            "text/plain": [
              "<matplotlib.legend.Legend at 0x7fa3f88dc9b0>"
            ]
          },
          "metadata": {
            "tags": []
          },
          "execution_count": 34
        },
        {
          "output_type": "display_data",
          "data": {
            "image/png": "[encoded data removed]",
            "text/plain": [
              "<Figure size 432x288 with 1 Axes>"
            ]
          },
          "metadata": {
            "tags": []
          }
        }
      ]
    },
    {
      "cell_type": "code",
      "metadata": {
        "id": "y81cdFEf98FG",
        "colab_type": "code",
        "colab": {
          "base_uri": "https://localhost:8080/",
          "height": 34
        },
        "outputId": "413e869e-d4ad-4887-bd6c-3dbf44c27c62"
      },
      "source": [
        "model.get_weights()"
      ],
      "execution_count": 35,
      "outputs": [
        {
          "output_type": "execute_result",
          "data": {
            "text/plain": [
              "[array([[1.8]], dtype=float32), array([32.00002], dtype=float32)]"
            ]
          },
          "metadata": {
            "tags": []
          },
          "execution_count": 35
        }
      ]
    },
    {
      "cell_type": "code",
      "metadata": {
        "id": "EfEn6PfR-nWf",
        "colab_type": "code",
        "colab": {
          "base_uri": "https://localhost:8080/",
          "height": 34
        },
        "outputId": "86bd4606-2fbb-4ed9-c3f9-82ab62df490c"
      },
      "source": [
        "Temp_C = 0\n",
        "Temp_F = model.predict([Temp_C])\n",
        "print(\"Tempreture in Defg Using Trained ANN\", Temp_F)"
      ],
      "execution_count": 38,
      "outputs": [
        {
          "output_type": "stream",
          "text": [
            "Tempreture in Defg Using Trained ANN [[32.00002]]\n"
          ],
          "name": "stdout"
        }
      ]
    },
    {
      "cell_type": "code",
      "metadata": {
        "id": "a66GRTQ7_2V4",
        "colab_type": "code",
        "colab": {
          "base_uri": "https://localhost:8080/",
          "height": 34
        },
        "outputId": "7c170d83-2aa1-4d18-8f7b-9020d0e07c5f"
      },
      "source": [
        "# Lets Conform with the equation.\n",
        "\n",
        "Temp_F = 9/5 * Temp_C + 32\n",
        "print(\"Tempreture in Defg Using Euation\", Temp_F)"
      ],
      "execution_count": 39,
      "outputs": [
        {
          "output_type": "stream",
          "text": [
            "Tempreture in Defg Using Euation 32.0\n"
          ],
          "name": "stdout"
        }
      ]
    },
    {
      "cell_type": "code",
      "metadata": {
        "id": "UFVxycRv_RKm",
        "colab_type": "code",
        "colab": {
          "base_uri": "https://localhost:8080/",
          "height": 34
        },
        "outputId": "ffd9fd1c-826e-4b01-bd87-acc3b1076d5b"
      },
      "source": [
        "Temp_C = 50\n",
        "Temp_F = model.predict([Temp_C])\n",
        "print(\"Tempreture in Defg Using Trained ANN\", Temp_F)"
      ],
      "execution_count": 42,
      "outputs": [
        {
          "output_type": "stream",
          "text": [
            "Tempreture in Defg Using Trained ANN [[122.000015]]\n"
          ],
          "name": "stdout"
        }
      ]
    },
    {
      "cell_type": "code",
      "metadata": {
        "id": "gryaJBUl_ZFL",
        "colab_type": "code",
        "colab": {
          "base_uri": "https://localhost:8080/",
          "height": 34
        },
        "outputId": "28f2c1e1-e7bf-4c00-adc7-500d4fbb4047"
      },
      "source": [
        "# Lets Conform with the equation.\n",
        "\n",
        "Temp_F = 9/5 * Temp_C + 32\n",
        "print(\"Tempreture in Defg Using Euation\", Temp_F)"
      ],
      "execution_count": 43,
      "outputs": [
        {
          "output_type": "stream",
          "text": [
            "Tempreture in Defg Using Euation 122.0\n"
          ],
          "name": "stdout"
        }
      ]
    },
    {
      "cell_type": "code",
      "metadata": {
        "id": "C8O08Cqp_5Aw",
        "colab_type": "code",
        "colab": {}
      },
      "source": [
        ""
      ],
      "execution_count": 0,
      "outputs": []
    }
  ]
}